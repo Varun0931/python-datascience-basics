{
 "cells": [
  {
   "cell_type": "code",
   "execution_count": 1,
   "id": "a26dea20-db36-48ea-a773-b55dee3b5f8a",
   "metadata": {},
   "outputs": [],
   "source": [
    "import pandas as pd\n",
    "import numpy as np"
   ]
  },
  {
   "cell_type": "markdown",
   "id": "996e7b03-f6d5-438f-886c-40d17a2afac7",
   "metadata": {},
   "source": [
    "## DataTypes in Python"
   ]
  },
  {
   "cell_type": "code",
   "execution_count": 18,
   "id": "c0dbf068-31c1-497b-8031-d7a66c9fc7a8",
   "metadata": {},
   "outputs": [
    {
     "name": "stdout",
     "output_type": "stream",
     "text": [
      "dict_keys(['age', 'Name', 'key_skills', 'exp']) dict_values([29, 'Varun', ['Python', 'SQL', 'Excel'], 5])\n"
     ]
    }
   ],
   "source": [
    "a = \"Varun\"\n",
    "\n",
    "age  = 29\n",
    "\n",
    "skills = [\"Python\",\"SQL\",\"Excel\"]\n",
    "experience = 5\n",
    "career = {\"age\":age,\"Name\":a,\"key_skills\":skills,\"exp\" :experience}\n",
    "print(career.keys(),career.values())"
   ]
  },
  {
   "cell_type": "code",
   "execution_count": 19,
   "id": "4622b1c4-af04-417d-94c0-68d9d35a01fa",
   "metadata": {},
   "outputs": [
    {
     "data": {
      "text/plain": [
       "{'age': 29,\n",
       " 'Name': 'Varun',\n",
       " 'key_skills': ['Python', 'SQL', 'Excel'],\n",
       " 'exp': 5}"
      ]
     },
     "execution_count": 19,
     "metadata": {},
     "output_type": "execute_result"
    }
   ],
   "source": [
    "career"
   ]
  },
  {
   "cell_type": "code",
   "execution_count": 20,
   "id": "4bfaf466-0c53-4b88-a66e-da5ec92676b0",
   "metadata": {},
   "outputs": [
    {
     "name": "stdout",
     "output_type": "stream",
     "text": [
      "You are an experienced fellow\n"
     ]
    }
   ],
   "source": [
    "if experience>=5:\n",
    "    print(\"You are an experienced fellow\")\n",
    "else:\n",
    "    print(\"yet to learn\")"
   ]
  },
  {
   "cell_type": "code",
   "execution_count": 34,
   "id": "87a313bf-15e6-47c2-906f-9b7968ca37f5",
   "metadata": {},
   "outputs": [
    {
     "name": "stdout",
     "output_type": "stream",
     "text": [
      "*\n",
      "**\n",
      "***\n",
      "****\n",
      "*****\n"
     ]
    }
   ],
   "source": [
    "for i in range(experience):\n",
    "    print((i+1)*\"*\",sep =\" \")"
   ]
  },
  {
   "cell_type": "code",
   "execution_count": 40,
   "id": "5da6c71f-1ef0-49ba-8296-46ab7f1fdba3",
   "metadata": {},
   "outputs": [
    {
     "name": "stdout",
     "output_type": "stream",
     "text": [
      "**\n",
      "****\n",
      "******\n",
      "********\n",
      "**********\n"
     ]
    }
   ],
   "source": [
    "for i in range(experience):\n",
    "    print((2*i+2)*\"*\",sep =\" \")"
   ]
  },
  {
   "cell_type": "code",
   "execution_count": 41,
   "id": "0cb5f00a-4c86-4894-b8d7-46e2193a343b",
   "metadata": {},
   "outputs": [
    {
     "name": "stdout",
     "output_type": "stream",
     "text": [
      "Python\n",
      "SQL\n",
      "Excel\n"
     ]
    }
   ],
   "source": [
    "for i in skills:\n",
    "    print(i)"
   ]
  },
  {
   "cell_type": "code",
   "execution_count": 51,
   "id": "5759610e-3df6-4a11-89cc-55740bd90887",
   "metadata": {},
   "outputs": [
    {
     "name": "stdout",
     "output_type": "stream",
     "text": [
      "['Python', 'SQL', 'Excel']\n"
     ]
    }
   ],
   "source": [
    "for key,value in career.items():\n",
    "    if key == \"key_skills\":\n",
    "        print(value)"
   ]
  },
  {
   "cell_type": "code",
   "execution_count": 53,
   "id": "a4518fd4-858d-4a89-ae37-9870530ce20a",
   "metadata": {},
   "outputs": [
    {
     "name": "stdout",
     "output_type": "stream",
     "text": [
      "29\n",
      "Varun\n",
      "['Python', 'SQL', 'Excel']\n",
      "5\n"
     ]
    }
   ],
   "source": [
    "for key_skills in career.values():\n",
    "    print(key_skills)"
   ]
  },
  {
   "cell_type": "code",
   "execution_count": 56,
   "id": "b9c6934c-4788-49d1-9f73-512b2f2fe659",
   "metadata": {},
   "outputs": [
    {
     "name": "stdout",
     "output_type": "stream",
     "text": [
      "Varun believe in yourself you are on the right path\n"
     ]
    }
   ],
   "source": [
    "def greet(name):\n",
    "    print(f\"{name} believe in yourself you are on the right path\")\n",
    "\n",
    "greet(a)"
   ]
  },
  {
   "cell_type": "code",
   "execution_count": 64,
   "id": "1ecded19-f545-4a53-8d78-a5ca0d25a9ba",
   "metadata": {},
   "outputs": [
    {
     "name": "stdout",
     "output_type": "stream",
     "text": [
      "percentage growth from Q1 to Q2 is: 62.60 %\n"
     ]
    }
   ],
   "source": [
    "trx_dict = {\"Q1\" :123 ,\"Q2\":200}\n",
    "\n",
    "def trx_growth(trx_value):\n",
    "    result = (trx_value[\"Q2\"] - trx_value[\"Q1\"]) *100/trx_value[\"Q1\"]\n",
    "    return result\n",
    "\n",
    "print(f\"percentage growth from Q1 to Q2 is: {trx_growth(trx_dict):.2f} %\")"
   ]
  },
  {
   "cell_type": "code",
   "execution_count": 65,
   "id": "aa08732d-f1d8-4c3d-b26d-6201300995ac",
   "metadata": {},
   "outputs": [],
   "source": [
    "import json"
   ]
  },
  {
   "cell_type": "code",
   "execution_count": 68,
   "id": "9122c65b-df17-4def-83f7-1e7e3b87c09c",
   "metadata": {},
   "outputs": [],
   "source": [
    "account = '{\"client\" :\"Menarini\" , \"campaign\" :\"Geography based\" , \"impact\" : 25 }'"
   ]
  },
  {
   "cell_type": "code",
   "execution_count": 69,
   "id": "818c7dc9-a09c-4450-b28c-72ca98f0e874",
   "metadata": {},
   "outputs": [
    {
     "data": {
      "text/plain": [
       "'Menarini'"
      ]
     },
     "execution_count": 69,
     "metadata": {},
     "output_type": "execute_result"
    }
   ],
   "source": [
    "data = json.loads(account)\n",
    "data[\"client\"]"
   ]
  },
  {
   "cell_type": "code",
   "execution_count": null,
   "id": "43726625-df02-44fc-a7e1-8b02d64f8e0e",
   "metadata": {},
   "outputs": [],
   "source": []
  }
 ],
 "metadata": {
  "kernelspec": {
   "display_name": "Python 3 (ipykernel)",
   "language": "python",
   "name": "python3"
  },
  "language_info": {
   "codemirror_mode": {
    "name": "ipython",
    "version": 3
   },
   "file_extension": ".py",
   "mimetype": "text/x-python",
   "name": "python",
   "nbconvert_exporter": "python",
   "pygments_lexer": "ipython3",
   "version": "3.11.9"
  }
 },
 "nbformat": 4,
 "nbformat_minor": 5
}
