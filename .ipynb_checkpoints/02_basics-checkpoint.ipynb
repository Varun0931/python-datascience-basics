{
 "cells": [
  {
   "cell_type": "code",
   "execution_count": 1,
   "id": "bf9d5b81-a909-4088-a7d1-89a7769b2856",
   "metadata": {},
   "outputs": [],
   "source": [
    "import pandas"
   ]
  },
  {
   "cell_type": "markdown",
   "id": "fa612f81-afb4-47da-90e3-4710534cb493",
   "metadata": {},
   "source": [
    "### adding second code into the same repo"
   ]
  },
  {
   "cell_type": "code",
   "execution_count": null,
   "id": "66d54d8e-ff25-457f-9573-136e8e4e6c1d",
   "metadata": {},
   "outputs": [],
   "source": []
  }
 ],
 "metadata": {
  "kernelspec": {
   "display_name": "Python 3 (ipykernel)",
   "language": "python",
   "name": "python3"
  },
  "language_info": {
   "codemirror_mode": {
    "name": "ipython",
    "version": 3
   },
   "file_extension": ".py",
   "mimetype": "text/x-python",
   "name": "python",
   "nbconvert_exporter": "python",
   "pygments_lexer": "ipython3",
   "version": "3.13.5"
  }
 },
 "nbformat": 4,
 "nbformat_minor": 5
}
